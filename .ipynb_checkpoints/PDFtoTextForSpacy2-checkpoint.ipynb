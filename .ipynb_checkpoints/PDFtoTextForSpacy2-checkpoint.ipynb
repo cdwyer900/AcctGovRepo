{
 "cells": [
  {
   "cell_type": "code",
   "execution_count": 4,
   "id": "c3519f7d",
   "metadata": {},
   "outputs": [],
   "source": [
    "# extract to text\n",
    "from PyPDF2 import PdfReader\n",
    "\n",
    "#reader = PdfReader(\"pdfoutput.pdf\") this file also has the visa esg report\n",
    "\n",
    "reader = PdfReader(\"2021-ESG-Visa.pdf\")\n",
    "text = \"\"\n",
    "for page in reader.pages:\n",
    "    text += page.extract_text() + \"\\n\"\n",
    "#write out a copy of the file as text\n",
    "outFile=open(\"VISA-ESG-txt-spacy.txt\",\"w\")\n",
    "outFile.write(text)\n",
    "outFile.close()\n",
    "    \n"
   ]
  }
 ],
 "metadata": {
  "kernelspec": {
   "display_name": "Python 3 (ipykernel)",
   "language": "python",
   "name": "python3"
  },
  "language_info": {
   "codemirror_mode": {
    "name": "ipython",
    "version": 3
   },
   "file_extension": ".py",
   "mimetype": "text/x-python",
   "name": "python",
   "nbconvert_exporter": "python",
   "pygments_lexer": "ipython3",
   "version": "3.9.12"
  }
 },
 "nbformat": 4,
 "nbformat_minor": 5
}
