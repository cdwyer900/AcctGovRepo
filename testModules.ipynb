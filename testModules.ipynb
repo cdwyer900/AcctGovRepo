{
 "cells": [
  {
   "cell_type": "code",
   "execution_count": null,
   "id": "40831d20",
   "metadata": {},
   "outputs": [],
   "source": [
    "from python_environment_check import check_packages\n",
    "\n",
    "\n",
    "d = {\n",
    "    'numpy': '1.21.2',\n",
    "    'scipy': '1.7.0',\n",
    "    'matplotlib': '3.4.3',\n",
    "    'sklearn': '1.0',\n",
    "    'pandas': '1.3.2'\n",
    "}\n",
    "\n",
    "\n",
    "python>=3.7\n",
    "spherecluster\n",
    "scikit-learn<=0.22\n",
    "joblib\n",
    "numba\n",
    "pydot\n",
    "python-igraph\n",
    "scipy\n",
    "tqdm\n",
    "check_packages(d)"
   ]
  }
 ],
 "metadata": {
  "kernelspec": {
   "display_name": "Python 3 (ipykernel)",
   "language": "python",
   "name": "python3"
  },
  "language_info": {
   "codemirror_mode": {
    "name": "ipython",
    "version": 3
   },
   "file_extension": ".py",
   "mimetype": "text/x-python",
   "name": "python",
   "nbconvert_exporter": "python",
   "pygments_lexer": "ipython3",
   "version": "3.9.13"
  }
 },
 "nbformat": 4,
 "nbformat_minor": 5
}
